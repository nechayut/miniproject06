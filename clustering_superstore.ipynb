{
 "cells": [
  {
   "cell_type": "code",
   "execution_count": 57,
   "id": "dcdd6266",
   "metadata": {},
   "outputs": [],
   "source": [
    "import pandas as pd\n",
    "import numpy as np\n",
    "import matplotlib.pyplot as plt\n",
    "from sklearn.cluster import KMeans\n",
    "from sklearn.model_selection import train_test_split"
   ]
  },
  {
   "cell_type": "code",
   "execution_count": 2,
   "id": "a733e1d4",
   "metadata": {},
   "outputs": [],
   "source": [
    "def clean_col(file_name):\n",
    "    superstore_df = pd.read_csv(file_name)\n",
    "    superstore_df.set_index('Row ID')\n",
    "    clean_cols = []\n",
    "    for cols in superstore_df.columns:\n",
    "        clean_cols.append(cols.lower().replace(' ','').replace('-',''))\n",
    "    superstore_df.columns = clean_cols\n",
    "    return superstore_df\n"
   ]
  },
  {
   "cell_type": "code",
   "execution_count": 3,
   "id": "3ccd087c",
   "metadata": {},
   "outputs": [],
   "source": [
    "def stat(selected_cols,df):\n",
    "    agg_selected_cols = df[selected_cols].agg(['mean','std','min','max'])\n",
    "    return agg_selected_cols\n"
   ]
  },
  {
   "cell_type": "code",
   "execution_count": 98,
   "id": "4972f6c5",
   "metadata": {},
   "outputs": [],
   "source": [
    "def sale_by_sel(df,selected_col):\n",
    "    sales_by_selected = df.groupby(selected_col)['sales','profit','discount','quantity'].agg('sum')\n",
    "    sales_by_selected['percent_margin'] = sales_by_selected['profit']/sales_by_selected['sales']*100\n",
    "    return sales_by_selected"
   ]
  },
  {
   "cell_type": "code",
   "execution_count": 6,
   "id": "6e0ab890",
   "metadata": {},
   "outputs": [],
   "source": [
    "def margin_col(df):\n",
    "    df['margin'] = df['profit']/df['sales']\n",
    "    return df"
   ]
  },
  {
   "cell_type": "code",
   "execution_count": 110,
   "id": "ebd4ce08",
   "metadata": {},
   "outputs": [],
   "source": [
    "def clustering(df,n_cluster):\n",
    "    K_means = KMeans(n_clusters = n_cluster, random_state = 0 )\n",
    "    K_means.fit(df)\n",
    "    df['kmeans'] = K_means.labels_\n",
    "    plt.scatter(df['percent_margin'],df['sales'],c = df['kmeans'])\n",
    "    return df"
   ]
  },
  {
   "cell_type": "code",
   "execution_count": 19,
   "id": "72ffc2ba",
   "metadata": {},
   "outputs": [],
   "source": [
    "store_df = clean_col('sample-store.csv')"
   ]
  },
  {
   "cell_type": "code",
   "execution_count": 43,
   "id": "d88774d3",
   "metadata": {},
   "outputs": [
    {
     "data": {
      "text/html": [
       "<div>\n",
       "<style scoped>\n",
       "    .dataframe tbody tr th:only-of-type {\n",
       "        vertical-align: middle;\n",
       "    }\n",
       "\n",
       "    .dataframe tbody tr th {\n",
       "        vertical-align: top;\n",
       "    }\n",
       "\n",
       "    .dataframe thead th {\n",
       "        text-align: right;\n",
       "    }\n",
       "</style>\n",
       "<table border=\"1\" class=\"dataframe\">\n",
       "  <thead>\n",
       "    <tr style=\"text-align: right;\">\n",
       "      <th></th>\n",
       "      <th>category</th>\n",
       "      <th>sales</th>\n",
       "      <th>profit</th>\n",
       "      <th>quantity</th>\n",
       "    </tr>\n",
       "  </thead>\n",
       "  <tbody>\n",
       "    <tr>\n",
       "      <th>mean</th>\n",
       "      <td>NaN</td>\n",
       "      <td>229.858001</td>\n",
       "      <td>28.656896</td>\n",
       "      <td>3.789574</td>\n",
       "    </tr>\n",
       "    <tr>\n",
       "      <th>std</th>\n",
       "      <td>NaN</td>\n",
       "      <td>623.245101</td>\n",
       "      <td>234.260108</td>\n",
       "      <td>2.225110</td>\n",
       "    </tr>\n",
       "    <tr>\n",
       "      <th>min</th>\n",
       "      <td>Furniture</td>\n",
       "      <td>0.444000</td>\n",
       "      <td>-6599.978000</td>\n",
       "      <td>1.000000</td>\n",
       "    </tr>\n",
       "    <tr>\n",
       "      <th>max</th>\n",
       "      <td>Technology</td>\n",
       "      <td>22638.480000</td>\n",
       "      <td>8399.976000</td>\n",
       "      <td>14.000000</td>\n",
       "    </tr>\n",
       "  </tbody>\n",
       "</table>\n",
       "</div>"
      ],
      "text/plain": [
       "        category         sales       profit   quantity\n",
       "mean         NaN    229.858001    28.656896   3.789574\n",
       "std          NaN    623.245101   234.260108   2.225110\n",
       "min    Furniture      0.444000 -6599.978000   1.000000\n",
       "max   Technology  22638.480000  8399.976000  14.000000"
      ]
     },
     "execution_count": 43,
     "metadata": {},
     "output_type": "execute_result"
    }
   ],
   "source": [
    "stat(['sales','profit','quantity'],store_df)"
   ]
  },
  {
   "cell_type": "code",
   "execution_count": 102,
   "id": "3658ad06",
   "metadata": {},
   "outputs": [
    {
     "name": "stderr",
     "output_type": "stream",
     "text": [
      "C:\\Users\\Ne\\AppData\\Local\\Temp/ipykernel_14728/4291233972.py:2: FutureWarning: Indexing with multiple keys (implicitly converted to a tuple of keys) will be deprecated, use a list instead.\n",
      "  sales_by_selected = df.groupby(selected_col)['sales','profit','discount','quantity'].agg('sum')\n"
     ]
    }
   ],
   "source": [
    "sale_by_cus = sale_by_sel(store_df,'customerid')"
   ]
  },
  {
   "cell_type": "code",
   "execution_count": 123,
   "id": "5edf6095",
   "metadata": {},
   "outputs": [],
   "source": [
    "sale_by_cus = clustering(sale_by_cus[['sales','quantity','discount','profit','percent_margin']],5)"
   ]
  },
  {
   "cell_type": "code",
   "execution_count": 120,
   "id": "019b190e",
   "metadata": {},
   "outputs": [
    {
     "name": "stderr",
     "output_type": "stream",
     "text": [
      "C:\\Users\\Ne\\AppData\\Local\\Temp/ipykernel_14728/4291233972.py:2: FutureWarning: Indexing with multiple keys (implicitly converted to a tuple of keys) will be deprecated, use a list instead.\n",
      "  sales_by_selected = df.groupby(selected_col)['sales','profit','discount','quantity'].agg('sum')\n"
     ]
    }
   ],
   "source": [
    "sale_by_product = sale_by_sel(store_df,'productid')"
   ]
  },
  {
   "cell_type": "code",
   "execution_count": 122,
   "id": "a8dbfd89",
   "metadata": {},
   "outputs": [],
   "source": [
    "sale_by_product = clustering(sale_by_product[['sales','quantity','discount','profit','percent_margin']],5)"
   ]
  },
  {
   "cell_type": "code",
   "execution_count": 124,
   "id": "2f6f2ac1",
   "metadata": {},
   "outputs": [],
   "source": [
    "sale_by_cus.to_csv('new customer segment.csv')"
   ]
  },
  {
   "cell_type": "code",
   "execution_count": 125,
   "id": "c2fd5bae",
   "metadata": {},
   "outputs": [],
   "source": [
    "sale_by_product.to_csv('product hero.csv')"
   ]
  },
  {
   "cell_type": "code",
   "execution_count": null,
   "id": "d385e989",
   "metadata": {},
   "outputs": [],
   "source": []
  }
 ],
 "metadata": {
  "kernelspec": {
   "display_name": "Python 3 (ipykernel)",
   "language": "python",
   "name": "python3"
  },
  "language_info": {
   "codemirror_mode": {
    "name": "ipython",
    "version": 3
   },
   "file_extension": ".py",
   "mimetype": "text/x-python",
   "name": "python",
   "nbconvert_exporter": "python",
   "pygments_lexer": "ipython3",
   "version": "3.9.7"
  },
  "varInspector": {
   "cols": {
    "lenName": 16,
    "lenType": 16,
    "lenVar": 40
   },
   "kernels_config": {
    "python": {
     "delete_cmd_postfix": "",
     "delete_cmd_prefix": "del ",
     "library": "var_list.py",
     "varRefreshCmd": "print(var_dic_list())"
    },
    "r": {
     "delete_cmd_postfix": ") ",
     "delete_cmd_prefix": "rm(",
     "library": "var_list.r",
     "varRefreshCmd": "cat(var_dic_list()) "
    }
   },
   "types_to_exclude": [
    "module",
    "function",
    "builtin_function_or_method",
    "instance",
    "_Feature"
   ],
   "window_display": false
  }
 },
 "nbformat": 4,
 "nbformat_minor": 5
}
